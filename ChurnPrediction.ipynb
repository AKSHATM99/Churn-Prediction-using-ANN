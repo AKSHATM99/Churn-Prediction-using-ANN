{
 "cells": [
  {
   "cell_type": "code",
   "execution_count": 2,
   "id": "a4320fee",
   "metadata": {},
   "outputs": [],
   "source": [
    "import tensorflow as tf\n",
    "import numpy as np\n",
    "import matplotlib.pyplot as plt\n",
    "import pandas as pd"
   ]
  },
  {
   "cell_type": "code",
   "execution_count": 3,
   "id": "ef59d648",
   "metadata": {},
   "outputs": [],
   "source": [
    "ds = pd.read_csv('ChurnModelling.csv')"
   ]
  },
  {
   "cell_type": "code",
   "execution_count": 4,
   "id": "447bb689",
   "metadata": {
    "scrolled": true
   },
   "outputs": [
    {
     "data": {
      "text/html": [
       "<div>\n",
       "<style scoped>\n",
       "    .dataframe tbody tr th:only-of-type {\n",
       "        vertical-align: middle;\n",
       "    }\n",
       "\n",
       "    .dataframe tbody tr th {\n",
       "        vertical-align: top;\n",
       "    }\n",
       "\n",
       "    .dataframe thead th {\n",
       "        text-align: right;\n",
       "    }\n",
       "</style>\n",
       "<table border=\"1\" class=\"dataframe\">\n",
       "  <thead>\n",
       "    <tr style=\"text-align: right;\">\n",
       "      <th></th>\n",
       "      <th>RowNumber</th>\n",
       "      <th>CustomerId</th>\n",
       "      <th>Surname</th>\n",
       "      <th>CreditScore</th>\n",
       "      <th>Geography</th>\n",
       "      <th>Gender</th>\n",
       "      <th>Age</th>\n",
       "      <th>Tenure</th>\n",
       "      <th>Balance</th>\n",
       "      <th>NumOfProducts</th>\n",
       "      <th>HasCrCard</th>\n",
       "      <th>IsActiveMember</th>\n",
       "      <th>EstimatedSalary</th>\n",
       "      <th>Exited</th>\n",
       "    </tr>\n",
       "  </thead>\n",
       "  <tbody>\n",
       "    <tr>\n",
       "      <th>0</th>\n",
       "      <td>1</td>\n",
       "      <td>15634602</td>\n",
       "      <td>Hargrave</td>\n",
       "      <td>619</td>\n",
       "      <td>France</td>\n",
       "      <td>Female</td>\n",
       "      <td>42</td>\n",
       "      <td>2</td>\n",
       "      <td>0.00</td>\n",
       "      <td>1</td>\n",
       "      <td>1</td>\n",
       "      <td>1</td>\n",
       "      <td>101348.88</td>\n",
       "      <td>1</td>\n",
       "    </tr>\n",
       "    <tr>\n",
       "      <th>1</th>\n",
       "      <td>2</td>\n",
       "      <td>15647311</td>\n",
       "      <td>Hill</td>\n",
       "      <td>608</td>\n",
       "      <td>Spain</td>\n",
       "      <td>Female</td>\n",
       "      <td>41</td>\n",
       "      <td>1</td>\n",
       "      <td>83807.86</td>\n",
       "      <td>1</td>\n",
       "      <td>0</td>\n",
       "      <td>1</td>\n",
       "      <td>112542.58</td>\n",
       "      <td>0</td>\n",
       "    </tr>\n",
       "    <tr>\n",
       "      <th>2</th>\n",
       "      <td>3</td>\n",
       "      <td>15619304</td>\n",
       "      <td>Onio</td>\n",
       "      <td>502</td>\n",
       "      <td>France</td>\n",
       "      <td>Female</td>\n",
       "      <td>42</td>\n",
       "      <td>8</td>\n",
       "      <td>159660.80</td>\n",
       "      <td>3</td>\n",
       "      <td>1</td>\n",
       "      <td>0</td>\n",
       "      <td>113931.57</td>\n",
       "      <td>1</td>\n",
       "    </tr>\n",
       "    <tr>\n",
       "      <th>3</th>\n",
       "      <td>4</td>\n",
       "      <td>15701354</td>\n",
       "      <td>Boni</td>\n",
       "      <td>699</td>\n",
       "      <td>France</td>\n",
       "      <td>Female</td>\n",
       "      <td>39</td>\n",
       "      <td>1</td>\n",
       "      <td>0.00</td>\n",
       "      <td>2</td>\n",
       "      <td>0</td>\n",
       "      <td>0</td>\n",
       "      <td>93826.63</td>\n",
       "      <td>0</td>\n",
       "    </tr>\n",
       "    <tr>\n",
       "      <th>4</th>\n",
       "      <td>5</td>\n",
       "      <td>15737888</td>\n",
       "      <td>Mitchell</td>\n",
       "      <td>850</td>\n",
       "      <td>Spain</td>\n",
       "      <td>Female</td>\n",
       "      <td>43</td>\n",
       "      <td>2</td>\n",
       "      <td>125510.82</td>\n",
       "      <td>1</td>\n",
       "      <td>1</td>\n",
       "      <td>1</td>\n",
       "      <td>79084.10</td>\n",
       "      <td>0</td>\n",
       "    </tr>\n",
       "  </tbody>\n",
       "</table>\n",
       "</div>"
      ],
      "text/plain": [
       "   RowNumber  CustomerId   Surname  CreditScore Geography  Gender  Age  \\\n",
       "0          1    15634602  Hargrave          619    France  Female   42   \n",
       "1          2    15647311      Hill          608     Spain  Female   41   \n",
       "2          3    15619304      Onio          502    France  Female   42   \n",
       "3          4    15701354      Boni          699    France  Female   39   \n",
       "4          5    15737888  Mitchell          850     Spain  Female   43   \n",
       "\n",
       "   Tenure    Balance  NumOfProducts  HasCrCard  IsActiveMember  \\\n",
       "0       2       0.00              1          1               1   \n",
       "1       1   83807.86              1          0               1   \n",
       "2       8  159660.80              3          1               0   \n",
       "3       1       0.00              2          0               0   \n",
       "4       2  125510.82              1          1               1   \n",
       "\n",
       "   EstimatedSalary  Exited  \n",
       "0        101348.88       1  \n",
       "1        112542.58       0  \n",
       "2        113931.57       1  \n",
       "3         93826.63       0  \n",
       "4         79084.10       0  "
      ]
     },
     "execution_count": 4,
     "metadata": {},
     "output_type": "execute_result"
    }
   ],
   "source": [
    "ds.head(5)"
   ]
  },
  {
   "cell_type": "code",
   "execution_count": 5,
   "id": "8ac3b028",
   "metadata": {},
   "outputs": [],
   "source": [
    "# Divide DataSet into independent and dependent variables\n",
    "X = ds.iloc[:,3:13]\n",
    "Y = ds.iloc[:,13]"
   ]
  },
  {
   "cell_type": "code",
   "execution_count": 6,
   "id": "4fef4b2d",
   "metadata": {},
   "outputs": [
    {
     "data": {
      "text/html": [
       "<div>\n",
       "<style scoped>\n",
       "    .dataframe tbody tr th:only-of-type {\n",
       "        vertical-align: middle;\n",
       "    }\n",
       "\n",
       "    .dataframe tbody tr th {\n",
       "        vertical-align: top;\n",
       "    }\n",
       "\n",
       "    .dataframe thead th {\n",
       "        text-align: right;\n",
       "    }\n",
       "</style>\n",
       "<table border=\"1\" class=\"dataframe\">\n",
       "  <thead>\n",
       "    <tr style=\"text-align: right;\">\n",
       "      <th></th>\n",
       "      <th>CreditScore</th>\n",
       "      <th>Geography</th>\n",
       "      <th>Gender</th>\n",
       "      <th>Age</th>\n",
       "      <th>Tenure</th>\n",
       "      <th>Balance</th>\n",
       "      <th>NumOfProducts</th>\n",
       "      <th>HasCrCard</th>\n",
       "      <th>IsActiveMember</th>\n",
       "      <th>EstimatedSalary</th>\n",
       "    </tr>\n",
       "  </thead>\n",
       "  <tbody>\n",
       "    <tr>\n",
       "      <th>0</th>\n",
       "      <td>619</td>\n",
       "      <td>France</td>\n",
       "      <td>Female</td>\n",
       "      <td>42</td>\n",
       "      <td>2</td>\n",
       "      <td>0.00</td>\n",
       "      <td>1</td>\n",
       "      <td>1</td>\n",
       "      <td>1</td>\n",
       "      <td>101348.88</td>\n",
       "    </tr>\n",
       "    <tr>\n",
       "      <th>1</th>\n",
       "      <td>608</td>\n",
       "      <td>Spain</td>\n",
       "      <td>Female</td>\n",
       "      <td>41</td>\n",
       "      <td>1</td>\n",
       "      <td>83807.86</td>\n",
       "      <td>1</td>\n",
       "      <td>0</td>\n",
       "      <td>1</td>\n",
       "      <td>112542.58</td>\n",
       "    </tr>\n",
       "    <tr>\n",
       "      <th>2</th>\n",
       "      <td>502</td>\n",
       "      <td>France</td>\n",
       "      <td>Female</td>\n",
       "      <td>42</td>\n",
       "      <td>8</td>\n",
       "      <td>159660.80</td>\n",
       "      <td>3</td>\n",
       "      <td>1</td>\n",
       "      <td>0</td>\n",
       "      <td>113931.57</td>\n",
       "    </tr>\n",
       "    <tr>\n",
       "      <th>3</th>\n",
       "      <td>699</td>\n",
       "      <td>France</td>\n",
       "      <td>Female</td>\n",
       "      <td>39</td>\n",
       "      <td>1</td>\n",
       "      <td>0.00</td>\n",
       "      <td>2</td>\n",
       "      <td>0</td>\n",
       "      <td>0</td>\n",
       "      <td>93826.63</td>\n",
       "    </tr>\n",
       "    <tr>\n",
       "      <th>4</th>\n",
       "      <td>850</td>\n",
       "      <td>Spain</td>\n",
       "      <td>Female</td>\n",
       "      <td>43</td>\n",
       "      <td>2</td>\n",
       "      <td>125510.82</td>\n",
       "      <td>1</td>\n",
       "      <td>1</td>\n",
       "      <td>1</td>\n",
       "      <td>79084.10</td>\n",
       "    </tr>\n",
       "  </tbody>\n",
       "</table>\n",
       "</div>"
      ],
      "text/plain": [
       "   CreditScore Geography  Gender  Age  Tenure    Balance  NumOfProducts  \\\n",
       "0          619    France  Female   42       2       0.00              1   \n",
       "1          608     Spain  Female   41       1   83807.86              1   \n",
       "2          502    France  Female   42       8  159660.80              3   \n",
       "3          699    France  Female   39       1       0.00              2   \n",
       "4          850     Spain  Female   43       2  125510.82              1   \n",
       "\n",
       "   HasCrCard  IsActiveMember  EstimatedSalary  \n",
       "0          1               1        101348.88  \n",
       "1          0               1        112542.58  \n",
       "2          1               0        113931.57  \n",
       "3          0               0         93826.63  \n",
       "4          1               1         79084.10  "
      ]
     },
     "execution_count": 6,
     "metadata": {},
     "output_type": "execute_result"
    }
   ],
   "source": [
    "X.head(5)"
   ]
  },
  {
   "cell_type": "code",
   "execution_count": 7,
   "id": "4e4cce74",
   "metadata": {},
   "outputs": [
    {
     "data": {
      "text/plain": [
       "0    1\n",
       "1    0\n",
       "2    1\n",
       "3    0\n",
       "4    0\n",
       "Name: Exited, dtype: int64"
      ]
     },
     "execution_count": 7,
     "metadata": {},
     "output_type": "execute_result"
    }
   ],
   "source": [
    "Y.head(5)"
   ]
  },
  {
   "cell_type": "code",
   "execution_count": 8,
   "id": "fd07b103",
   "metadata": {},
   "outputs": [],
   "source": [
    "# Feature Enginnering Part\n",
    "geography = pd.get_dummies(X['Geography'],drop_first = True)\n",
    "gender = pd.get_dummies(X['Gender'],drop_first = True)"
   ]
  },
  {
   "cell_type": "code",
   "execution_count": 9,
   "id": "7829d277",
   "metadata": {},
   "outputs": [],
   "source": [
    "# Join them with dataset\n",
    "X = X.drop(['Geography','Gender'],axis = 1)\n",
    "X = pd.concat([X,geography,gender],axis=1)"
   ]
  },
  {
   "cell_type": "code",
   "execution_count": 11,
   "id": "c4dbe437",
   "metadata": {},
   "outputs": [],
   "source": [
    "# Splitting the dataset into train test\n",
    "from sklearn.model_selection import train_test_split\n",
    "X_train,X_test,y_train,y_test = train_test_split(X,Y,test_size = 0.2,random_state=0)"
   ]
  },
  {
   "cell_type": "code",
   "execution_count": 12,
   "id": "b8f0a30d",
   "metadata": {},
   "outputs": [],
   "source": [
    "# feature Scaling\n",
    "from sklearn.preprocessing import StandardScaler\n",
    "sc = StandardScaler()\n",
    "X_train = sc.fit_transform(X_train)\n",
    "X_test = sc.transform(X_test)"
   ]
  },
  {
   "cell_type": "code",
   "execution_count": 14,
   "id": "28e07089",
   "metadata": {},
   "outputs": [
    {
     "data": {
      "text/plain": [
       "(8000, 11)"
      ]
     },
     "execution_count": 14,
     "metadata": {},
     "output_type": "execute_result"
    }
   ],
   "source": [
    "X_train.shape"
   ]
  },
  {
   "cell_type": "code",
   "execution_count": 18,
   "id": "eb53f309",
   "metadata": {},
   "outputs": [],
   "source": [
    "from tensorflow.keras.layers import *\n",
    "from tensorflow.keras import Sequential"
   ]
  },
  {
   "cell_type": "code",
   "execution_count": 20,
   "id": "07e977cd",
   "metadata": {},
   "outputs": [],
   "source": [
    "# Lets initialize the ANN\n",
    "model = Sequential()"
   ]
  },
  {
   "cell_type": "code",
   "execution_count": 21,
   "id": "dad1cf6c",
   "metadata": {},
   "outputs": [],
   "source": [
    "# Adding the input layer ( here units =11 means the size of X_train)\n",
    "model.add(Dense(units=11,activation='relu'))"
   ]
  },
  {
   "cell_type": "code",
   "execution_count": 23,
   "id": "52f6cd8c",
   "metadata": {},
   "outputs": [],
   "source": [
    "# Adding the first hidden layer (here units are random)\n",
    "model.add(Dense(units=7,activation='relu'))"
   ]
  },
  {
   "cell_type": "code",
   "execution_count": 24,
   "id": "5a3f7944",
   "metadata": {},
   "outputs": [],
   "source": [
    "# Add second hidden layer\n",
    "model.add(Dense(units=6,activation='relu'))"
   ]
  },
  {
   "cell_type": "code",
   "execution_count": 25,
   "id": "77f58770",
   "metadata": {},
   "outputs": [],
   "source": [
    "# Output layer ( Here units are the type of classifcation (binary and multi class))\n",
    "model.add(Dense(1,activation='sigmoid'))"
   ]
  },
  {
   "cell_type": "code",
   "execution_count": 28,
   "id": "77a5d77c",
   "metadata": {},
   "outputs": [],
   "source": [
    "model.compile(optimizer='adam',loss='binary_crossentropy',metrics=['accuracy'])"
   ]
  },
  {
   "cell_type": "code",
   "execution_count": 30,
   "id": "d5bbcf84",
   "metadata": {},
   "outputs": [
    {
     "name": "stdout",
     "output_type": "stream",
     "text": [
      "Epoch 1/30\n",
      "536/536 [==============================] - 3s 5ms/step - loss: 0.3320 - accuracy: 0.8647 - val_loss: 0.3616 - val_accuracy: 0.8485\n",
      "Epoch 2/30\n",
      "536/536 [==============================] - 2s 4ms/step - loss: 0.3311 - accuracy: 0.8642 - val_loss: 0.3626 - val_accuracy: 0.8466\n",
      "Epoch 3/30\n",
      "536/536 [==============================] - 2s 4ms/step - loss: 0.3305 - accuracy: 0.8651 - val_loss: 0.3611 - val_accuracy: 0.8455\n",
      "Epoch 4/30\n",
      "536/536 [==============================] - 2s 4ms/step - loss: 0.3297 - accuracy: 0.8640 - val_loss: 0.3619 - val_accuracy: 0.8470\n",
      "Epoch 5/30\n",
      "536/536 [==============================] - 2s 4ms/step - loss: 0.3280 - accuracy: 0.8664 - val_loss: 0.3640 - val_accuracy: 0.8478\n",
      "Epoch 6/30\n",
      "536/536 [==============================] - 2s 4ms/step - loss: 0.3282 - accuracy: 0.8658 - val_loss: 0.3619 - val_accuracy: 0.8501\n",
      "Epoch 7/30\n",
      "536/536 [==============================] - 2s 4ms/step - loss: 0.3283 - accuracy: 0.8651 - val_loss: 0.3598 - val_accuracy: 0.8501\n",
      "Epoch 8/30\n",
      "536/536 [==============================] - 2s 4ms/step - loss: 0.3270 - accuracy: 0.8634 - val_loss: 0.3603 - val_accuracy: 0.8504\n",
      "Epoch 9/30\n",
      "536/536 [==============================] - 2s 4ms/step - loss: 0.3260 - accuracy: 0.8666 - val_loss: 0.3611 - val_accuracy: 0.8459\n",
      "Epoch 10/30\n",
      "536/536 [==============================] - 2s 4ms/step - loss: 0.3263 - accuracy: 0.8656 - val_loss: 0.3606 - val_accuracy: 0.8470\n",
      "Epoch 11/30\n",
      "536/536 [==============================] - 2s 4ms/step - loss: 0.3242 - accuracy: 0.8645 - val_loss: 0.3605 - val_accuracy: 0.8516\n",
      "Epoch 12/30\n",
      "536/536 [==============================] - 2s 4ms/step - loss: 0.3241 - accuracy: 0.8683 - val_loss: 0.3606 - val_accuracy: 0.8485\n",
      "Epoch 13/30\n",
      "536/536 [==============================] - 2s 4ms/step - loss: 0.3230 - accuracy: 0.8651 - val_loss: 0.3596 - val_accuracy: 0.8493\n",
      "Epoch 14/30\n",
      "536/536 [==============================] - 2s 4ms/step - loss: 0.3231 - accuracy: 0.8679 - val_loss: 0.3604 - val_accuracy: 0.8516\n",
      "Epoch 15/30\n",
      "536/536 [==============================] - 2s 4ms/step - loss: 0.3226 - accuracy: 0.8681 - val_loss: 0.3571 - val_accuracy: 0.8542\n",
      "Epoch 16/30\n",
      "536/536 [==============================] - 2s 4ms/step - loss: 0.3219 - accuracy: 0.8666 - val_loss: 0.3589 - val_accuracy: 0.8531\n",
      "Epoch 17/30\n",
      "536/536 [==============================] - 2s 4ms/step - loss: 0.3219 - accuracy: 0.8642 - val_loss: 0.3575 - val_accuracy: 0.8531\n",
      "Epoch 18/30\n",
      "536/536 [==============================] - 2s 4ms/step - loss: 0.3209 - accuracy: 0.8670 - val_loss: 0.3615 - val_accuracy: 0.8444\n",
      "Epoch 19/30\n",
      "536/536 [==============================] - 2s 4ms/step - loss: 0.3209 - accuracy: 0.8656 - val_loss: 0.3579 - val_accuracy: 0.8519\n",
      "Epoch 20/30\n",
      "536/536 [==============================] - 2s 4ms/step - loss: 0.3200 - accuracy: 0.8694 - val_loss: 0.3592 - val_accuracy: 0.8519\n",
      "Epoch 21/30\n",
      "536/536 [==============================] - 2s 4ms/step - loss: 0.3199 - accuracy: 0.8670 - val_loss: 0.3575 - val_accuracy: 0.8565\n",
      "Epoch 22/30\n",
      "536/536 [==============================] - 2s 4ms/step - loss: 0.3191 - accuracy: 0.8671 - val_loss: 0.3582 - val_accuracy: 0.8516\n",
      "Epoch 23/30\n",
      "536/536 [==============================] - 2s 4ms/step - loss: 0.3188 - accuracy: 0.8640 - val_loss: 0.3612 - val_accuracy: 0.8531\n",
      "Epoch 24/30\n",
      "536/536 [==============================] - 2s 4ms/step - loss: 0.3194 - accuracy: 0.8651 - val_loss: 0.3577 - val_accuracy: 0.8523\n",
      "Epoch 25/30\n",
      "536/536 [==============================] - 2s 4ms/step - loss: 0.3180 - accuracy: 0.8660 - val_loss: 0.3603 - val_accuracy: 0.8508\n",
      "Epoch 26/30\n",
      "536/536 [==============================] - 2s 4ms/step - loss: 0.3184 - accuracy: 0.8675 - val_loss: 0.3595 - val_accuracy: 0.8493\n",
      "Epoch 27/30\n",
      "536/536 [==============================] - 2s 4ms/step - loss: 0.3178 - accuracy: 0.8664 - val_loss: 0.3590 - val_accuracy: 0.8523\n",
      "Epoch 28/30\n",
      "536/536 [==============================] - 2s 4ms/step - loss: 0.3171 - accuracy: 0.8688 - val_loss: 0.3585 - val_accuracy: 0.8497\n",
      "Epoch 29/30\n",
      "536/536 [==============================] - 2s 4ms/step - loss: 0.3161 - accuracy: 0.8666 - val_loss: 0.3593 - val_accuracy: 0.8485\n",
      "Epoch 30/30\n",
      "536/536 [==============================] - 2s 4ms/step - loss: 0.3162 - accuracy: 0.8686 - val_loss: 0.3611 - val_accuracy: 0.8482\n"
     ]
    }
   ],
   "source": [
    "model_history = model.fit(X_train,y_train,validation_split=0.33,batch_size=10,epochs=30)"
   ]
  },
  {
   "cell_type": "code",
   "execution_count": 52,
   "id": "c06bdc0b",
   "metadata": {},
   "outputs": [
    {
     "data": {
      "text/plain": [
       "array([-0.55204276, -0.36890377,  1.04473698,  0.8793029 , -0.92159124,\n",
       "        0.64259497,  0.9687384 ,  1.61085707,  1.75486502, -0.57369368,\n",
       "       -1.09168714])"
      ]
     },
     "execution_count": 52,
     "metadata": {},
     "output_type": "execute_result"
    }
   ],
   "source": [
    "X_test[0]"
   ]
  },
  {
   "cell_type": "code",
   "execution_count": 71,
   "id": "1949f4f2",
   "metadata": {},
   "outputs": [
    {
     "data": {
      "text/plain": [
       "1"
      ]
     },
     "execution_count": 71,
     "metadata": {},
     "output_type": "execute_result"
    }
   ],
   "source": [
    "y_test.iloc[609]"
   ]
  },
  {
   "cell_type": "code",
   "execution_count": 54,
   "id": "91f16d4c",
   "metadata": {},
   "outputs": [
    {
     "name": "stdout",
     "output_type": "stream",
     "text": [
      "63/63 [==============================] - 0s 3ms/step\n"
     ]
    }
   ],
   "source": [
    "# Making Predictions\n",
    "y_pred = model.predict(X_test)\n",
    "y_pred = (y_pred >= 0.5)"
   ]
  },
  {
   "cell_type": "code",
   "execution_count": 70,
   "id": "47cf0962",
   "metadata": {},
   "outputs": [
    {
     "data": {
      "text/plain": [
       "array([ True])"
      ]
     },
     "execution_count": 70,
     "metadata": {},
     "output_type": "execute_result"
    }
   ],
   "source": [
    "y_pred[609]"
   ]
  },
  {
   "cell_type": "code",
   "execution_count": 69,
   "id": "c1c45664",
   "metadata": {
    "scrolled": true
   },
   "outputs": [
    {
     "name": "stdout",
     "output_type": "stream",
     "text": [
      "63/63 [==============================] - 0s 6ms/step - loss: 0.3533 - accuracy: 0.8510\n"
     ]
    },
    {
     "data": {
      "text/plain": [
       "[0.35333332419395447, 0.8510000109672546]"
      ]
     },
     "execution_count": 69,
     "metadata": {},
     "output_type": "execute_result"
    }
   ],
   "source": [
    "model.evaluate(X_test,y_test)"
   ]
  },
  {
   "cell_type": "code",
   "execution_count": null,
   "id": "32c4ba1e",
   "metadata": {},
   "outputs": [],
   "source": []
  }
 ],
 "metadata": {
  "kernelspec": {
   "display_name": "Python 3 (ipykernel)",
   "language": "python",
   "name": "python3"
  },
  "language_info": {
   "codemirror_mode": {
    "name": "ipython",
    "version": 3
   },
   "file_extension": ".py",
   "mimetype": "text/x-python",
   "name": "python",
   "nbconvert_exporter": "python",
   "pygments_lexer": "ipython3",
   "version": "3.9.0"
  }
 },
 "nbformat": 4,
 "nbformat_minor": 5
}
